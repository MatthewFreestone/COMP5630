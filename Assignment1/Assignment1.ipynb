{
 "cells": [
  {
   "cell_type": "markdown",
   "metadata": {},
   "source": [
    "# Section 1"
   ]
  },
  {
   "cell_type": "code",
   "execution_count": 1,
   "metadata": {},
   "outputs": [],
   "source": [
    "import math"
   ]
  },
  {
   "cell_type": "code",
   "execution_count": 2,
   "metadata": {},
   "outputs": [],
   "source": [
    "def partition(atr:int, dataset:list):\n",
    "    pos_list = [line for line in dataset if line[atr] == 1]\n",
    "    neg_list = [line for line in dataset if line[atr] == 0]\n",
    "    return (pos_list, neg_list)"
   ]
  },
  {
   "cell_type": "code",
   "execution_count": 3,
   "metadata": {},
   "outputs": [],
   "source": [
    "def H(inlist:list, strrep:str):\n",
    "    pos_list, neg_list = partition(Result, inlist)\n",
    "    pos, neg = len(pos_list), len(neg_list)\n",
    "    print(f\"{strrep} had {pos}+, {neg}-\")\n",
    "    return H_num(pos,neg)\n",
    "#     return -1*(pos/(pos+neg))*math.log((pos/(pos+neg)),2) - (neg/(pos+neg)) * math.log((neg/(pos+neg)),2)\n",
    "def H2(pos_list,neg_list):\n",
    "    total_len = len(pos_list) + len(neg_list)\n",
    "    total = (H(pos_list, \"Positive\") * (len(pos_list)/total_len))\n",
    "    total += (H(neg_list, \"Negative\") * (len(neg_list)/total_len))\n",
    "    return total\n",
    "def H_num(pos:int, neg:int):\n",
    "    if (pos == 0 or neg == 0):\n",
    "        return 0\n",
    "    return -1*(pos/(pos+neg))*math.log((pos/(pos+neg)),2) - (neg/(pos+neg)) * math.log((neg/(pos+neg)),2)"
   ]
  },
  {
   "cell_type": "code",
   "execution_count": 4,
   "metadata": {},
   "outputs": [],
   "source": [
    "def test_attribute(atr:int, dataset:list):\n",
    "    pos_list, neg_list = partition(atr,dataset)\n",
    "    return H2(pos_list,neg_list)"
   ]
  },
  {
   "cell_type": "code",
   "execution_count": 7,
   "metadata": {},
   "outputs": [
    {
     "data": {
      "text/plain": [
       "0.6500224216483541"
      ]
     },
     "execution_count": 7,
     "metadata": {},
     "output_type": "execute_result"
    }
   ],
   "source": [
    "H_num(1,5)"
   ]
  },
  {
   "cell_type": "markdown",
   "metadata": {},
   "source": [
    "## Root node"
   ]
  },
  {
   "cell_type": "code",
   "execution_count": 8,
   "metadata": {},
   "outputs": [],
   "source": [
    "INPUT_DATA = [\n",
    "    [1, 1, 0, 0, 1, 1],\n",
    "    [1, 1, 1, 0, 1, 1],\n",
    "    [0, 0, 1, 0, 0, 0],\n",
    "    [0, 1, 1, 0, 1, 0],\n",
    "    [0, 1, 1, 0, 0, 1],\n",
    "    [0, 0, 1, 1, 1, 1],\n",
    "    [1, 0, 0, 0, 1, 0],\n",
    "    [0, 1, 0, 1, 1, 1],\n",
    "    [0, 0, 1, 0, 1, 1],\n",
    "    [1, 0, 0, 0, 0, 0],\n",
    "    [1, 1, 1, 0, 0, 1],\n",
    "    [0, 1, 1, 1, 1, 0],\n",
    "    [0, 0, 0, 0, 1, 0],\n",
    "    [1, 0, 0, 1, 0, 1]\n",
    "]\n",
    "Early, FinishedHM, Senior, LikesCoffee, LikedTheLastJedi, Result= [0,1,2,3,4,5]"
   ]
  },
  {
   "cell_type": "code",
   "execution_count": 9,
   "metadata": {
    "collapsed": true
   },
   "outputs": [
    {
     "name": "stdout",
     "output_type": "stream",
     "text": [
      "Original had 8+, 6-\n",
      "0.9852 \n",
      "\n",
      "Positive had 4+, 2-\n",
      "Negative had 4+, 4-\n",
      "IG = 0.0202\n",
      "Early: 0.9650 \n",
      "\n",
      "Positive had 5+, 2-\n",
      "Negative had 3+, 4-\n",
      "IG = 0.0611\n",
      "FinishedHM: 0.9242 \n",
      "\n",
      "Positive had 5+, 3-\n",
      "Negative had 3+, 3-\n",
      "IG = 0.0113\n",
      "Senior: 0.9740 \n",
      "\n",
      "Positive had 3+, 1-\n",
      "Negative had 5+, 5-\n",
      "IG = 0.0391\n",
      "LikesCoffee: 0.9461 \n",
      "\n",
      "Positive had 5+, 4-\n",
      "Negative had 3+, 2-\n",
      "IG = 0.0013\n",
      "LikedTheLastJedi: 0.9839 \n",
      "\n"
     ]
    }
   ],
   "source": [
    "datacopy = INPUT_DATA[:]\n",
    "base_entropy = H(datacopy, \"Original\")\n",
    "print(f\"{base_entropy:.4f} \\n\")\n",
    "strings = \"Early,FinishedHM,Senior,LikesCoffee,LikedTheLastJedi\".split(',')\n",
    "for i, atr in enumerate([Early, FinishedHM, Senior, LikesCoffee, LikedTheLastJedi]):\n",
    "    entropy = test_attribute(atr, datacopy)\n",
    "    print(f\"IG = {(base_entropy - entropy):.4f}\")\n",
    "    print(f\"{strings[i]}: {entropy:.4f} \\n\")\n",
    "    \n",
    "    \n"
   ]
  },
  {
   "cell_type": "markdown",
   "metadata": {},
   "source": [
    "### Select Finished HMK\n",
    "Based on above result"
   ]
  },
  {
   "cell_type": "code",
   "execution_count": 10,
   "metadata": {},
   "outputs": [
    {
     "name": "stdout",
     "output_type": "stream",
     "text": [
      "0.8631\n"
     ]
    }
   ],
   "source": [
    "print(f\"{H_num(5,2):.4f}\")"
   ]
  },
  {
   "cell_type": "code",
   "execution_count": 11,
   "metadata": {},
   "outputs": [
    {
     "name": "stdout",
     "output_type": "stream",
     "text": [
      "0.9852\n"
     ]
    }
   ],
   "source": [
    "print(f\"{H_num(3,4):.4f}\")"
   ]
  },
  {
   "cell_type": "markdown",
   "metadata": {},
   "source": [
    "## Select Left Child"
   ]
  },
  {
   "cell_type": "code",
   "execution_count": 12,
   "metadata": {
    "collapsed": true
   },
   "outputs": [
    {
     "name": "stdout",
     "output_type": "stream",
     "text": [
      "Original had 5+, 2-\n",
      "0.8631 \n",
      "\n",
      "Positive had 3+, 0-\n",
      "Negative had 2+, 2-\n",
      "IG = 0.2917\n",
      "Early: 0.5714 \n",
      "\n",
      "Positive had 5+, 2-\n",
      "Negative had 0+, 0-\n",
      "IG = 0.0000\n",
      "FinishedHM: 0.8631 \n",
      "\n",
      "Positive had 3+, 2-\n",
      "Negative had 2+, 0-\n",
      "IG = 0.1696\n",
      "Senior: 0.6935 \n",
      "\n",
      "Positive had 1+, 1-\n",
      "Negative had 4+, 1-\n",
      "IG = 0.0617\n",
      "LikesCoffee: 0.8014 \n",
      "\n",
      "Positive had 3+, 2-\n",
      "Negative had 2+, 0-\n",
      "IG = 0.1696\n",
      "LikedTheLastJedi: 0.6935 \n",
      "\n"
     ]
    }
   ],
   "source": [
    "curr_data, _= partition(FinishedHM, INPUT_DATA[:])\n",
    "base_entropy = H(curr_data, \"Original\")\n",
    "print(f\"{base_entropy:.4f} \\n\")\n",
    "strings = \"Early,FinishedHM,Senior,LikesCoffee,LikedTheLastJedi\".split(',')\n",
    "for i, atr in enumerate([Early, FinishedHM, Senior, LikesCoffee, LikedTheLastJedi]):\n",
    "    entropy = test_attribute(atr, curr_data)\n",
    "    print(f\"IG = {(base_entropy - entropy):.4f}\")\n",
    "    print(f\"{strings[i]}: {entropy:.4f} \\n\")"
   ]
  },
  {
   "cell_type": "markdown",
   "metadata": {},
   "source": [
    "## Select Right Child"
   ]
  },
  {
   "cell_type": "code",
   "execution_count": 13,
   "metadata": {
    "collapsed": true
   },
   "outputs": [
    {
     "name": "stdout",
     "output_type": "stream",
     "text": [
      "Original had 3+, 4-\n",
      "0.9852 \n",
      "\n",
      "Positive had 1+, 2-\n",
      "Negative had 2+, 2-\n",
      "IG = 0.0202\n",
      "Early: 0.9650 \n",
      "\n",
      "Positive had 0+, 0-\n",
      "Negative had 3+, 4-\n",
      "IG = 0.0000\n",
      "FinishedHM: 0.9852 \n",
      "\n",
      "Positive had 2+, 1-\n",
      "Negative had 1+, 3-\n",
      "IG = 0.1281\n",
      "Senior: 0.8571 \n",
      "\n",
      "Positive had 2+, 0-\n",
      "Negative had 1+, 4-\n",
      "IG = 0.4696\n",
      "LikesCoffee: 0.5157 \n",
      "\n",
      "Positive had 2+, 2-\n",
      "Negative had 1+, 2-\n",
      "IG = 0.0202\n",
      "LikedTheLastJedi: 0.9650 \n",
      "\n"
     ]
    }
   ],
   "source": [
    "_, curr_data = partition(FinishedHM, INPUT_DATA[:])\n",
    "base_entropy = H(curr_data, \"Original\")\n",
    "print(f\"{base_entropy:.4f} \\n\")\n",
    "strings = \"Early,FinishedHM,Senior,LikesCoffee,LikedTheLastJedi\".split(',')\n",
    "for i, atr in enumerate([Early, FinishedHM, Senior, LikesCoffee, LikedTheLastJedi]):\n",
    "    entropy = test_attribute(atr, curr_data)\n",
    "    print(f\"IG = {(base_entropy - entropy):.4f}\")\n",
    "    print(f\"{strings[i]}: {entropy:.4f} \\n\")\n",
    "    \n",
    "    \n"
   ]
  },
  {
   "cell_type": "code",
   "execution_count": 14,
   "metadata": {},
   "outputs": [
    {
     "name": "stdout",
     "output_type": "stream",
     "text": [
      "0.7219\n"
     ]
    }
   ],
   "source": [
    "print(f\"{H_num(1,4):.4f}\")"
   ]
  },
  {
   "cell_type": "markdown",
   "metadata": {},
   "source": [
    "## Select [1,0]"
   ]
  },
  {
   "cell_type": "code",
   "execution_count": 17,
   "metadata": {
    "scrolled": true
   },
   "outputs": [
    {
     "name": "stdout",
     "output_type": "stream",
     "text": [
      "Original had 2+, 2-\n",
      "1.0000 \n",
      "\n",
      "Positive had 1+, 2-\n",
      "Negative had 1+, 0-\n",
      "IG = 0.3113\n",
      "Senior: 0.6887 \n",
      "\n",
      "Positive had 1+, 1-\n",
      "Negative had 1+, 1-\n",
      "IG = 0.0000\n",
      "LikesCoffee: 1.0000 \n",
      "\n",
      "Positive had 1+, 2-\n",
      "Negative had 1+, 0-\n",
      "IG = 0.3113\n",
      "LikedTheLastJedi: 0.6887 \n",
      "\n"
     ]
    }
   ],
   "source": [
    "lefttree, _ = partition(FinishedHM, INPUT_DATA[:])\n",
    "_, curr_data = partition(Early, lefttree)\n",
    "base_entropy = H(curr_data, \"Original\")\n",
    "print(f\"{base_entropy:.4f} \\n\")\n",
    "strings = \"Senior,LikesCoffee,LikedTheLastJedi\".split(',')\n",
    "for i, atr in enumerate([Senior, LikesCoffee, LikedTheLastJedi]):\n",
    "    entropy = test_attribute(atr, curr_data)\n",
    "    print(f\"IG = {(base_entropy - entropy):.4f}\")\n",
    "    print(f\"{strings[i]}: {entropy:.4f} \\n\")"
   ]
  },
  {
   "cell_type": "code",
   "execution_count": 22,
   "metadata": {},
   "outputs": [
    {
     "name": "stdout",
     "output_type": "stream",
     "text": [
      "0.9183\n"
     ]
    }
   ],
   "source": [
    "print(f\"{H_num(1,2):.4f}\")"
   ]
  },
  {
   "cell_type": "markdown",
   "metadata": {},
   "source": [
    "## Select [0,0]"
   ]
  },
  {
   "cell_type": "code",
   "execution_count": 20,
   "metadata": {},
   "outputs": [
    {
     "name": "stdout",
     "output_type": "stream",
     "text": [
      "Original had 1+, 4-\n",
      "0.7219 \n",
      "\n",
      "Positive had 0+, 2-\n",
      "Negative had 1+, 2-\n",
      "IG = 0.1710\n",
      "Early: 0.5510 \n",
      "\n",
      "Positive had 1+, 1-\n",
      "Negative had 0+, 3-\n",
      "IG = 0.3219\n",
      "Senior: 0.4000 \n",
      "\n",
      "Positive had 1+, 2-\n",
      "Negative had 0+, 2-\n",
      "IG = 0.1710\n",
      "LikedTheLastJedi: 0.5510 \n",
      "\n"
     ]
    }
   ],
   "source": [
    "_, righttree = partition(FinishedHM, INPUT_DATA[:])\n",
    "_, curr_data = partition(LikesCoffee, righttree)\n",
    "base_entropy = H(curr_data, \"Original\")\n",
    "print(f\"{base_entropy:.4f} \\n\")\n",
    "strings = \"Early,Senior,LikedTheLastJedi\".split(',')\n",
    "for i, atr in enumerate([Early, Senior, LikedTheLastJedi]):\n",
    "    entropy = test_attribute(atr, curr_data)\n",
    "    print(f\"IG = {(base_entropy - entropy):.4f}\")\n",
    "    print(f\"{strings[i]}: {entropy:.4f} \\n\")"
   ]
  }
 ],
 "metadata": {
  "kernelspec": {
   "display_name": "Python 3",
   "language": "python",
   "name": "python3"
  },
  "language_info": {
   "codemirror_mode": {
    "name": "ipython",
    "version": 3
   },
   "file_extension": ".py",
   "mimetype": "text/x-python",
   "name": "python",
   "nbconvert_exporter": "python",
   "pygments_lexer": "ipython3",
   "version": "3.8.5"
  }
 },
 "nbformat": 4,
 "nbformat_minor": 5
}
