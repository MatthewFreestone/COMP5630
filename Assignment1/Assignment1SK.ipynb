{
 "cells": [
  {
   "cell_type": "markdown",
   "id": "b1974084",
   "metadata": {},
   "source": [
    "# Section 2A"
   ]
  },
  {
   "cell_type": "markdown",
   "id": "6554e1d7",
   "metadata": {},
   "source": [
    "## Import and load data\n",
    "I'm using sklearn to create the decision tree itself, and matplotlib/graphviz to plot the result"
   ]
  },
  {
   "cell_type": "code",
   "execution_count": 1,
   "id": "308e0ec2",
   "metadata": {},
   "outputs": [],
   "source": [
    "from sklearn import tree\n",
    "from sklearn.preprocessing import OneHotEncoder\n",
    "import pandas as pd\n",
    "from collections import Counter\n",
    "from matplotlib import pyplot as plt\n",
    "import graphviz"
   ]
  },
  {
   "cell_type": "markdown",
   "id": "e7d870f4",
   "metadata": {},
   "source": [
    "Create list of attributes that correspond to the columns in the data. To convert these codes to an actual attribute, look in the names file"
   ]
  },
  {
   "cell_type": "code",
   "execution_count": 2,
   "id": "be1cf6c9",
   "metadata": {},
   "outputs": [],
   "source": [
    "ATTRIBUTES = pd.Index([\n",
    "    \"AAGE\",\n",
    "    \"ACLSWKR\",\n",
    "    \"ADTIND\",\n",
    "    \"ADTOCC\",\n",
    "    # \"AGI\",\n",
    "    \"AHGA\",\n",
    "    \"AHRSPAY\",\n",
    "    \"AHSCOL\",\n",
    "    \"AMARITL\",\n",
    "    \"AMJIND\",\n",
    "    \"AMJOCC\",\n",
    "    \"ARACE\",\n",
    "    \"AREORGN\",\n",
    "    \"ASEX\",\n",
    "    \"AUNMEM\",\n",
    "    \"AUNTYPE\",\n",
    "    \"AWKSTAT\",\n",
    "    \"CAPGAIN\",\n",
    "    \"CAPLOSS\",\n",
    "    \"DIVVAL\",\n",
    "    # \"FEDTAX\",\n",
    "    \"FILESTAT\",\n",
    "    \"GRINREG\",\n",
    "    \"GRINST\",\n",
    "    \"HHDFMX\",\n",
    "    \"HHDREL\",\n",
    "    \"MARSUPWT\", #This is sample weight, will be dropped later\n",
    "    \"MIGMTR1\",\n",
    "    \"MIGMTR3\",\n",
    "    \"MIGMTR4\",\n",
    "    \"MIGSAME\",\n",
    "    \"MIGSUN\",\n",
    "    \"NOEMP\",\n",
    "    \"PARENT\",\n",
    "    # \"PEARNVAL\",\n",
    "    \"PEFNTVTY\",\n",
    "    \"PEMNTVTY\",\n",
    "    \"PENATVTY\",\n",
    "    \"PRCITSHP\",\n",
    "    # \"PTOTVAL\",\n",
    "    \"SEOTR\",\n",
    "    # \"TAXINC\",\n",
    "    \"VETQVA\",\n",
    "    \"VETYN\",\n",
    "    \"WKSWORK\",\n",
    "    \"YEAR\",\n",
    "    \"RESULT\"\n",
    "])"
   ]
  },
  {
   "cell_type": "markdown",
   "id": "bf71278d",
   "metadata": {},
   "source": [
    "Load data with pandas.   \n",
    "Take the last column (RESULT) and put it in it's own vector.  \n",
    "Drop the columns for result and instance weight so our classifier does not attempt to use those in the decision tree."
   ]
  },
  {
   "cell_type": "code",
   "execution_count": 3,
   "id": "272ec5f6",
   "metadata": {},
   "outputs": [],
   "source": [
    "DATA = pd.read_csv('census-income.data', header=None, names=ATTRIBUTES)\n",
    "RESULTS = DATA[:]['RESULT']\n",
    "\n",
    "RESULTS = RESULTS.apply(lambda x: 0 if '-' in x else 1)\n",
    "CLASS_NAMES=['-50000', '50000+']\n",
    "\n",
    "DATA = DATA.drop(columns=[\"MARSUPWT\",\"RESULT\"])\n",
    "ATTRIBUTE_COLUMNS = DATA.columns"
   ]
  },
  {
   "cell_type": "markdown",
   "id": "eaaea51e",
   "metadata": {},
   "source": [
    "## Format Data"
   ]
  },
  {
   "cell_type": "markdown",
   "id": "0b6ad3c1",
   "metadata": {},
   "source": [
    "Sklearn only produces binary trees, and we have columns that have multiple choices and are not continous.  \n",
    "We use OneHotEncoder or pd.get_dummies to change those columns to multiple columns with only two choices, 1 or 0.   \n",
    "  \n",
    "Note: This cell can take a while. It took around 10 seconds on my fairly new laptop."
   ]
  },
  {
   "cell_type": "code",
   "execution_count": 4,
   "id": "cd515542",
   "metadata": {},
   "outputs": [
    {
     "name": "stdout",
     "output_type": "stream",
     "text": [
      "Old data shape: (199523, 40)\n",
      "New data shape: (199523, 509)\n"
     ]
    }
   ],
   "source": [
    "CLEANED_DATA = DATA.copy()\n",
    "ohe = OneHotEncoder()\n",
    "# These attributes are already integers, so get_dummies will ignore them. We check for them separately\n",
    "numerical_non_continuous = {'ADTIND', 'ADTOCC','SEOTR','VETYN'}\n",
    "\n",
    "for t, col in zip(DATA.dtypes, DATA.columns):\n",
    "    if t == 'object':\n",
    "        new_cols = pd.get_dummies(DATA[[col]])\n",
    "        CLEANED_DATA = pd.concat([CLEANED_DATA, new_cols], axis=1)\n",
    "        CLEANED_DATA = CLEANED_DATA.drop(columns=[col])\n",
    "    if col in numerical_non_continuous:\n",
    "        new_cols = pd.DataFrame(ohe.fit_transform(DATA[[col]]).toarray())\n",
    "        new_cols.columns = ohe.get_feature_names_out()     \n",
    "        CLEANED_DATA = pd.concat([CLEANED_DATA, new_cols], axis=1)\n",
    "        CLEANED_DATA = CLEANED_DATA.drop(columns=[col])\n",
    "print(f\"Old data shape: {DATA.shape}\")\n",
    "print(f\"New data shape: {CLEANED_DATA.shape}\")"
   ]
  },
  {
   "cell_type": "markdown",
   "id": "21883863",
   "metadata": {},
   "source": [
    "This transformation dramatically increased the number of columns, but that's a necessary consequence"
   ]
  },
  {
   "cell_type": "markdown",
   "id": "e0629d3a",
   "metadata": {},
   "source": [
    "### Previous Issues\n",
    "When I used `LabelEncoder` or `pd.factorize`, the string attributes would successfully be converted to integers. However, for categories like \"Tax Filer Status\" the tree would output a decision like \"FILESTAT <= 2.\" This has no real meaning -- what does it mean to be \"less than\" nonfiler? Therefore, I elected to go with the OneHotEncoder."
   ]
  },
  {
   "cell_type": "code",
   "execution_count": 19,
   "id": "1b502a5f",
   "metadata": {},
   "outputs": [
    {
     "name": "stdout",
     "output_type": "stream",
     "text": [
      "Training_X shape (199523, 509)\n",
      "Training_Y Shape (199523,)\n"
     ]
    }
   ],
   "source": [
    "# This rename is now unneccessary, but it keeps the below cells using X and Y\n",
    "X_TRAIN, Y_TRAIN = CLEANED_DATA, RESULTS\n",
    "print(f\"Training_X shape {X_TRAIN.shape}\\nTraining_Y Shape {Y_TRAIN.shape}\")"
   ]
  },
  {
   "cell_type": "markdown",
   "id": "468572c6",
   "metadata": {},
   "source": [
    "## Train model"
   ]
  },
  {
   "cell_type": "markdown",
   "id": "47ecfae9",
   "metadata": {},
   "source": [
    "This cell is mostly a demonstration showing an example of a height 3 tree, and the illustration that comes with it.  \n",
    "  \n",
    "NOTE: graphviz requires some extra binaries, and this cell might not run if you don't have them installed.  \n",
    "`conda install python-graphviz` will work if you're using conda. In case it doesn't work, I've attached an example image to the notebook"
   ]
  },
  {
   "cell_type": "code",
   "execution_count": 15,
   "id": "ce7031ab",
   "metadata": {
    "collapsed": true
   },
   "outputs": [
    {
     "data": {
      "image/svg+xml": [
       "<?xml version=\"1.0\" encoding=\"UTF-8\" standalone=\"no\"?>\n",
       "<!DOCTYPE svg PUBLIC \"-//W3C//DTD SVG 1.1//EN\"\n",
       " \"http://www.w3.org/Graphics/SVG/1.1/DTD/svg11.dtd\">\n",
       "<!-- Generated by graphviz version 2.50.0 (0)\n",
       " -->\n",
       "<!-- Title: Tree Pages: 1 -->\n",
       "<svg width=\"1209pt\" height=\"433pt\"\n",
       " viewBox=\"0.00 0.00 1208.50 433.00\" xmlns=\"http://www.w3.org/2000/svg\" xmlns:xlink=\"http://www.w3.org/1999/xlink\">\n",
       "<g id=\"graph0\" class=\"graph\" transform=\"scale(1 1) rotate(0) translate(4 429)\">\n",
       "<title>Tree</title>\n",
       "<polygon fill=\"white\" stroke=\"transparent\" points=\"-4,4 -4,-429 1204.5,-429 1204.5,4 -4,4\"/>\n",
       "<!-- 0 -->\n",
       "<g id=\"node1\" class=\"node\">\n",
       "<title>0</title>\n",
       "<path fill=\"#e78946\" stroke=\"black\" d=\"M651.5,-425C651.5,-425 513.5,-425 513.5,-425 507.5,-425 501.5,-419 501.5,-413 501.5,-413 501.5,-354 501.5,-354 501.5,-348 507.5,-342 513.5,-342 513.5,-342 651.5,-342 651.5,-342 657.5,-342 663.5,-348 663.5,-354 663.5,-354 663.5,-413 663.5,-413 663.5,-419 657.5,-425 651.5,-425\"/>\n",
       "<text text-anchor=\"middle\" x=\"582.5\" y=\"-409.8\" font-family=\"Helvetica,sans-Serif\" font-size=\"14.00\">WKSWORK &lt;= 44.5</text>\n",
       "<text text-anchor=\"middle\" x=\"582.5\" y=\"-394.8\" font-family=\"Helvetica,sans-Serif\" font-size=\"14.00\">entropy = 0.336</text>\n",
       "<text text-anchor=\"middle\" x=\"582.5\" y=\"-379.8\" font-family=\"Helvetica,sans-Serif\" font-size=\"14.00\">samples = 199523</text>\n",
       "<text text-anchor=\"middle\" x=\"582.5\" y=\"-364.8\" font-family=\"Helvetica,sans-Serif\" font-size=\"14.00\">value = [187141, 12382]</text>\n",
       "<text text-anchor=\"middle\" x=\"582.5\" y=\"-349.8\" font-family=\"Helvetica,sans-Serif\" font-size=\"14.00\">class = &#45;50000</text>\n",
       "</g>\n",
       "<!-- 1 -->\n",
       "<g id=\"node2\" class=\"node\">\n",
       "<title>1</title>\n",
       "<path fill=\"#e5823b\" stroke=\"black\" d=\"M515,-306C515,-306 360,-306 360,-306 354,-306 348,-300 348,-294 348,-294 348,-235 348,-235 348,-229 354,-223 360,-223 360,-223 515,-223 515,-223 521,-223 527,-229 527,-235 527,-235 527,-294 527,-294 527,-300 521,-306 515,-306\"/>\n",
       "<text text-anchor=\"middle\" x=\"437.5\" y=\"-290.8\" font-family=\"Helvetica,sans-Serif\" font-size=\"14.00\">FILESTAT_ Nonfiler &lt;= 0.5</text>\n",
       "<text text-anchor=\"middle\" x=\"437.5\" y=\"-275.8\" font-family=\"Helvetica,sans-Serif\" font-size=\"14.00\">entropy = 0.086</text>\n",
       "<text text-anchor=\"middle\" x=\"437.5\" y=\"-260.8\" font-family=\"Helvetica,sans-Serif\" font-size=\"14.00\">samples = 122116</text>\n",
       "<text text-anchor=\"middle\" x=\"437.5\" y=\"-245.8\" font-family=\"Helvetica,sans-Serif\" font-size=\"14.00\">value = [120802, 1314]</text>\n",
       "<text text-anchor=\"middle\" x=\"437.5\" y=\"-230.8\" font-family=\"Helvetica,sans-Serif\" font-size=\"14.00\">class = &#45;50000</text>\n",
       "</g>\n",
       "<!-- 0&#45;&gt;1 -->\n",
       "<g id=\"edge1\" class=\"edge\">\n",
       "<title>0&#45;&gt;1</title>\n",
       "<path fill=\"none\" stroke=\"black\" d=\"M532.19,-341.91C520.38,-332.38 507.71,-322.15 495.59,-312.37\"/>\n",
       "<polygon fill=\"black\" stroke=\"black\" points=\"497.7,-309.58 487.72,-306.02 493.3,-315.02 497.7,-309.58\"/>\n",
       "<text text-anchor=\"middle\" x=\"490.37\" y=\"-327.18\" font-family=\"Helvetica,sans-Serif\" font-size=\"14.00\">True</text>\n",
       "</g>\n",
       "<!-- 8 -->\n",
       "<g id=\"node9\" class=\"node\">\n",
       "<title>8</title>\n",
       "<path fill=\"#e9965a\" stroke=\"black\" d=\"M808.5,-306C808.5,-306 678.5,-306 678.5,-306 672.5,-306 666.5,-300 666.5,-294 666.5,-294 666.5,-235 666.5,-235 666.5,-229 672.5,-223 678.5,-223 678.5,-223 808.5,-223 808.5,-223 814.5,-223 820.5,-229 820.5,-235 820.5,-235 820.5,-294 820.5,-294 820.5,-300 814.5,-306 808.5,-306\"/>\n",
       "<text text-anchor=\"middle\" x=\"743.5\" y=\"-290.8\" font-family=\"Helvetica,sans-Serif\" font-size=\"14.00\">DIVVAL &lt;= 12.5</text>\n",
       "<text text-anchor=\"middle\" x=\"743.5\" y=\"-275.8\" font-family=\"Helvetica,sans-Serif\" font-size=\"14.00\">entropy = 0.592</text>\n",
       "<text text-anchor=\"middle\" x=\"743.5\" y=\"-260.8\" font-family=\"Helvetica,sans-Serif\" font-size=\"14.00\">samples = 77407</text>\n",
       "<text text-anchor=\"middle\" x=\"743.5\" y=\"-245.8\" font-family=\"Helvetica,sans-Serif\" font-size=\"14.00\">value = [66339, 11068]</text>\n",
       "<text text-anchor=\"middle\" x=\"743.5\" y=\"-230.8\" font-family=\"Helvetica,sans-Serif\" font-size=\"14.00\">class = &#45;50000</text>\n",
       "</g>\n",
       "<!-- 0&#45;&gt;8 -->\n",
       "<g id=\"edge8\" class=\"edge\">\n",
       "<title>0&#45;&gt;8</title>\n",
       "<path fill=\"none\" stroke=\"black\" d=\"M638.36,-341.91C651.6,-332.29 665.82,-321.95 679.39,-312.09\"/>\n",
       "<polygon fill=\"black\" stroke=\"black\" points=\"681.71,-314.73 687.74,-306.02 677.59,-309.07 681.71,-314.73\"/>\n",
       "<text text-anchor=\"middle\" x=\"683.83\" y=\"-327.01\" font-family=\"Helvetica,sans-Serif\" font-size=\"14.00\">False</text>\n",
       "</g>\n",
       "<!-- 2 -->\n",
       "<g id=\"node3\" class=\"node\">\n",
       "<title>2</title>\n",
       "<path fill=\"#e6843e\" stroke=\"black\" d=\"M289,-187C289,-187 166,-187 166,-187 160,-187 154,-181 154,-175 154,-175 154,-116 154,-116 154,-110 160,-104 166,-104 166,-104 289,-104 289,-104 295,-104 301,-110 301,-116 301,-116 301,-175 301,-175 301,-181 295,-187 289,-187\"/>\n",
       "<text text-anchor=\"middle\" x=\"227.5\" y=\"-171.8\" font-family=\"Helvetica,sans-Serif\" font-size=\"14.00\">CAPGAIN &lt;= 5826.5</text>\n",
       "<text text-anchor=\"middle\" x=\"227.5\" y=\"-156.8\" font-family=\"Helvetica,sans-Serif\" font-size=\"14.00\">entropy = 0.179</text>\n",
       "<text text-anchor=\"middle\" x=\"227.5\" y=\"-141.8\" font-family=\"Helvetica,sans-Serif\" font-size=\"14.00\">samples = 47532</text>\n",
       "<text text-anchor=\"middle\" x=\"227.5\" y=\"-126.8\" font-family=\"Helvetica,sans-Serif\" font-size=\"14.00\">value = [46252, 1280]</text>\n",
       "<text text-anchor=\"middle\" x=\"227.5\" y=\"-111.8\" font-family=\"Helvetica,sans-Serif\" font-size=\"14.00\">class = &#45;50000</text>\n",
       "</g>\n",
       "<!-- 1&#45;&gt;2 -->\n",
       "<g id=\"edge2\" class=\"edge\">\n",
       "<title>1&#45;&gt;2</title>\n",
       "<path fill=\"none\" stroke=\"black\" d=\"M364.64,-222.91C346.72,-212.92 327.42,-202.17 309.12,-191.98\"/>\n",
       "<polygon fill=\"black\" stroke=\"black\" points=\"310.67,-188.83 300.23,-187.02 307.26,-194.95 310.67,-188.83\"/>\n",
       "</g>\n",
       "<!-- 5 -->\n",
       "<g id=\"node6\" class=\"node\">\n",
       "<title>5</title>\n",
       "<path fill=\"#e58139\" stroke=\"black\" d=\"M491.5,-187C491.5,-187 383.5,-187 383.5,-187 377.5,-187 371.5,-181 371.5,-175 371.5,-175 371.5,-116 371.5,-116 371.5,-110 377.5,-104 383.5,-104 383.5,-104 491.5,-104 491.5,-104 497.5,-104 503.5,-110 503.5,-116 503.5,-116 503.5,-175 503.5,-175 503.5,-181 497.5,-187 491.5,-187\"/>\n",
       "<text text-anchor=\"middle\" x=\"437.5\" y=\"-171.8\" font-family=\"Helvetica,sans-Serif\" font-size=\"14.00\">AAGE &lt;= 20.5</text>\n",
       "<text text-anchor=\"middle\" x=\"437.5\" y=\"-156.8\" font-family=\"Helvetica,sans-Serif\" font-size=\"14.00\">entropy = 0.006</text>\n",
       "<text text-anchor=\"middle\" x=\"437.5\" y=\"-141.8\" font-family=\"Helvetica,sans-Serif\" font-size=\"14.00\">samples = 74584</text>\n",
       "<text text-anchor=\"middle\" x=\"437.5\" y=\"-126.8\" font-family=\"Helvetica,sans-Serif\" font-size=\"14.00\">value = [74550, 34]</text>\n",
       "<text text-anchor=\"middle\" x=\"437.5\" y=\"-111.8\" font-family=\"Helvetica,sans-Serif\" font-size=\"14.00\">class = &#45;50000</text>\n",
       "</g>\n",
       "<!-- 1&#45;&gt;5 -->\n",
       "<g id=\"edge5\" class=\"edge\">\n",
       "<title>1&#45;&gt;5</title>\n",
       "<path fill=\"none\" stroke=\"black\" d=\"M437.5,-222.91C437.5,-214.65 437.5,-205.86 437.5,-197.3\"/>\n",
       "<polygon fill=\"black\" stroke=\"black\" points=\"441,-197.02 437.5,-187.02 434,-197.02 441,-197.02\"/>\n",
       "</g>\n",
       "<!-- 3 -->\n",
       "<g id=\"node4\" class=\"node\">\n",
       "<title>3</title>\n",
       "<path fill=\"#e6843d\" stroke=\"black\" d=\"M135,-68C135,-68 12,-68 12,-68 6,-68 0,-62 0,-56 0,-56 0,-12 0,-12 0,-6 6,0 12,0 12,0 135,0 135,0 141,0 147,-6 147,-12 147,-12 147,-56 147,-56 147,-62 141,-68 135,-68\"/>\n",
       "<text text-anchor=\"middle\" x=\"73.5\" y=\"-52.8\" font-family=\"Helvetica,sans-Serif\" font-size=\"14.00\">entropy = 0.154</text>\n",
       "<text text-anchor=\"middle\" x=\"73.5\" y=\"-37.8\" font-family=\"Helvetica,sans-Serif\" font-size=\"14.00\">samples = 46948</text>\n",
       "<text text-anchor=\"middle\" x=\"73.5\" y=\"-22.8\" font-family=\"Helvetica,sans-Serif\" font-size=\"14.00\">value = [45906, 1042]</text>\n",
       "<text text-anchor=\"middle\" x=\"73.5\" y=\"-7.8\" font-family=\"Helvetica,sans-Serif\" font-size=\"14.00\">class = &#45;50000</text>\n",
       "</g>\n",
       "<!-- 2&#45;&gt;3 -->\n",
       "<g id=\"edge3\" class=\"edge\">\n",
       "<title>2&#45;&gt;3</title>\n",
       "<path fill=\"none\" stroke=\"black\" d=\"M170.16,-103.73C156.56,-94.06 142.09,-83.77 128.59,-74.17\"/>\n",
       "<polygon fill=\"black\" stroke=\"black\" points=\"130.51,-71.24 120.33,-68.3 126.45,-76.95 130.51,-71.24\"/>\n",
       "</g>\n",
       "<!-- 4 -->\n",
       "<g id=\"node5\" class=\"node\">\n",
       "<title>4</title>\n",
       "<path fill=\"#f7d8c1\" stroke=\"black\" d=\"M278,-68C278,-68 177,-68 177,-68 171,-68 165,-62 165,-56 165,-56 165,-12 165,-12 165,-6 171,0 177,0 177,0 278,0 278,0 284,0 290,-6 290,-12 290,-12 290,-56 290,-56 290,-62 284,-68 278,-68\"/>\n",
       "<text text-anchor=\"middle\" x=\"227.5\" y=\"-52.8\" font-family=\"Helvetica,sans-Serif\" font-size=\"14.00\">entropy = 0.975</text>\n",
       "<text text-anchor=\"middle\" x=\"227.5\" y=\"-37.8\" font-family=\"Helvetica,sans-Serif\" font-size=\"14.00\">samples = 584</text>\n",
       "<text text-anchor=\"middle\" x=\"227.5\" y=\"-22.8\" font-family=\"Helvetica,sans-Serif\" font-size=\"14.00\">value = [346, 238]</text>\n",
       "<text text-anchor=\"middle\" x=\"227.5\" y=\"-7.8\" font-family=\"Helvetica,sans-Serif\" font-size=\"14.00\">class = &#45;50000</text>\n",
       "</g>\n",
       "<!-- 2&#45;&gt;4 -->\n",
       "<g id=\"edge4\" class=\"edge\">\n",
       "<title>2&#45;&gt;4</title>\n",
       "<path fill=\"none\" stroke=\"black\" d=\"M227.5,-103.73C227.5,-95.52 227.5,-86.86 227.5,-78.56\"/>\n",
       "<polygon fill=\"black\" stroke=\"black\" points=\"231,-78.3 227.5,-68.3 224,-78.3 231,-78.3\"/>\n",
       "</g>\n",
       "<!-- 6 -->\n",
       "<g id=\"node7\" class=\"node\">\n",
       "<title>6</title>\n",
       "<path fill=\"#e58139\" stroke=\"black\" d=\"M421,-68C421,-68 320,-68 320,-68 314,-68 308,-62 308,-56 308,-56 308,-12 308,-12 308,-6 314,0 320,0 320,0 421,0 421,0 427,0 433,-6 433,-12 433,-12 433,-56 433,-56 433,-62 427,-68 421,-68\"/>\n",
       "<text text-anchor=\"middle\" x=\"370.5\" y=\"-52.8\" font-family=\"Helvetica,sans-Serif\" font-size=\"14.00\">entropy = 0.0</text>\n",
       "<text text-anchor=\"middle\" x=\"370.5\" y=\"-37.8\" font-family=\"Helvetica,sans-Serif\" font-size=\"14.00\">samples = 56615</text>\n",
       "<text text-anchor=\"middle\" x=\"370.5\" y=\"-22.8\" font-family=\"Helvetica,sans-Serif\" font-size=\"14.00\">value = [56615, 0]</text>\n",
       "<text text-anchor=\"middle\" x=\"370.5\" y=\"-7.8\" font-family=\"Helvetica,sans-Serif\" font-size=\"14.00\">class = &#45;50000</text>\n",
       "</g>\n",
       "<!-- 5&#45;&gt;6 -->\n",
       "<g id=\"edge6\" class=\"edge\">\n",
       "<title>5&#45;&gt;6</title>\n",
       "<path fill=\"none\" stroke=\"black\" d=\"M412.55,-103.73C407.19,-94.97 401.52,-85.7 396.14,-76.91\"/>\n",
       "<polygon fill=\"black\" stroke=\"black\" points=\"399.08,-75 390.88,-68.3 393.11,-78.66 399.08,-75\"/>\n",
       "</g>\n",
       "<!-- 7 -->\n",
       "<g id=\"node8\" class=\"node\">\n",
       "<title>7</title>\n",
       "<path fill=\"#e58139\" stroke=\"black\" d=\"M571.5,-68C571.5,-68 463.5,-68 463.5,-68 457.5,-68 451.5,-62 451.5,-56 451.5,-56 451.5,-12 451.5,-12 451.5,-6 457.5,0 463.5,0 463.5,0 571.5,0 571.5,0 577.5,0 583.5,-6 583.5,-12 583.5,-12 583.5,-56 583.5,-56 583.5,-62 577.5,-68 571.5,-68\"/>\n",
       "<text text-anchor=\"middle\" x=\"517.5\" y=\"-52.8\" font-family=\"Helvetica,sans-Serif\" font-size=\"14.00\">entropy = 0.02</text>\n",
       "<text text-anchor=\"middle\" x=\"517.5\" y=\"-37.8\" font-family=\"Helvetica,sans-Serif\" font-size=\"14.00\">samples = 17969</text>\n",
       "<text text-anchor=\"middle\" x=\"517.5\" y=\"-22.8\" font-family=\"Helvetica,sans-Serif\" font-size=\"14.00\">value = [17935, 34]</text>\n",
       "<text text-anchor=\"middle\" x=\"517.5\" y=\"-7.8\" font-family=\"Helvetica,sans-Serif\" font-size=\"14.00\">class = &#45;50000</text>\n",
       "</g>\n",
       "<!-- 5&#45;&gt;7 -->\n",
       "<g id=\"edge7\" class=\"edge\">\n",
       "<title>5&#45;&gt;7</title>\n",
       "<path fill=\"none\" stroke=\"black\" d=\"M467.29,-103.73C473.75,-94.88 480.6,-85.51 487.09,-76.63\"/>\n",
       "<polygon fill=\"black\" stroke=\"black\" points=\"490.1,-78.44 493.17,-68.3 484.45,-74.31 490.1,-78.44\"/>\n",
       "</g>\n",
       "<!-- 9 -->\n",
       "<g id=\"node10\" class=\"node\">\n",
       "<title>9</title>\n",
       "<path fill=\"#e88f4f\" stroke=\"black\" d=\"M805,-187C805,-187 682,-187 682,-187 676,-187 670,-181 670,-175 670,-175 670,-116 670,-116 670,-110 676,-104 682,-104 682,-104 805,-104 805,-104 811,-104 817,-110 817,-116 817,-116 817,-175 817,-175 817,-181 811,-187 805,-187\"/>\n",
       "<text text-anchor=\"middle\" x=\"743.5\" y=\"-171.8\" font-family=\"Helvetica,sans-Serif\" font-size=\"14.00\">CAPGAIN &lt;= 7565.5</text>\n",
       "<text text-anchor=\"middle\" x=\"743.5\" y=\"-156.8\" font-family=\"Helvetica,sans-Serif\" font-size=\"14.00\">entropy = 0.473</text>\n",
       "<text text-anchor=\"middle\" x=\"743.5\" y=\"-141.8\" font-family=\"Helvetica,sans-Serif\" font-size=\"14.00\">samples = 65821</text>\n",
       "<text text-anchor=\"middle\" x=\"743.5\" y=\"-126.8\" font-family=\"Helvetica,sans-Serif\" font-size=\"14.00\">value = [59162, 6659]</text>\n",
       "<text text-anchor=\"middle\" x=\"743.5\" y=\"-111.8\" font-family=\"Helvetica,sans-Serif\" font-size=\"14.00\">class = &#45;50000</text>\n",
       "</g>\n",
       "<!-- 8&#45;&gt;9 -->\n",
       "<g id=\"edge9\" class=\"edge\">\n",
       "<title>8&#45;&gt;9</title>\n",
       "<path fill=\"none\" stroke=\"black\" d=\"M743.5,-222.91C743.5,-214.65 743.5,-205.86 743.5,-197.3\"/>\n",
       "<polygon fill=\"black\" stroke=\"black\" points=\"747,-197.02 743.5,-187.02 740,-197.02 747,-197.02\"/>\n",
       "</g>\n",
       "<!-- 12 -->\n",
       "<g id=\"node13\" class=\"node\">\n",
       "<title>12</title>\n",
       "<path fill=\"#f5ceb3\" stroke=\"black\" d=\"M1044.5,-187C1044.5,-187 916.5,-187 916.5,-187 910.5,-187 904.5,-181 904.5,-175 904.5,-175 904.5,-116 904.5,-116 904.5,-110 910.5,-104 916.5,-104 916.5,-104 1044.5,-104 1044.5,-104 1050.5,-104 1056.5,-110 1056.5,-116 1056.5,-116 1056.5,-175 1056.5,-175 1056.5,-181 1050.5,-187 1044.5,-187\"/>\n",
       "<text text-anchor=\"middle\" x=\"980.5\" y=\"-171.8\" font-family=\"Helvetica,sans-Serif\" font-size=\"14.00\">ASEX_ Female &lt;= 0.5</text>\n",
       "<text text-anchor=\"middle\" x=\"980.5\" y=\"-156.8\" font-family=\"Helvetica,sans-Serif\" font-size=\"14.00\">entropy = 0.958</text>\n",
       "<text text-anchor=\"middle\" x=\"980.5\" y=\"-141.8\" font-family=\"Helvetica,sans-Serif\" font-size=\"14.00\">samples = 11586</text>\n",
       "<text text-anchor=\"middle\" x=\"980.5\" y=\"-126.8\" font-family=\"Helvetica,sans-Serif\" font-size=\"14.00\">value = [7177, 4409]</text>\n",
       "<text text-anchor=\"middle\" x=\"980.5\" y=\"-111.8\" font-family=\"Helvetica,sans-Serif\" font-size=\"14.00\">class = &#45;50000</text>\n",
       "</g>\n",
       "<!-- 8&#45;&gt;12 -->\n",
       "<g id=\"edge12\" class=\"edge\">\n",
       "<title>8&#45;&gt;12</title>\n",
       "<path fill=\"none\" stroke=\"black\" d=\"M820.77,-225.35C844.49,-213.64 870.72,-200.69 894.96,-188.73\"/>\n",
       "<polygon fill=\"black\" stroke=\"black\" points=\"896.72,-191.76 904.14,-184.2 893.62,-185.49 896.72,-191.76\"/>\n",
       "</g>\n",
       "<!-- 10 -->\n",
       "<g id=\"node11\" class=\"node\">\n",
       "<title>10</title>\n",
       "<path fill=\"#e88d4c\" stroke=\"black\" d=\"M737,-68C737,-68 614,-68 614,-68 608,-68 602,-62 602,-56 602,-56 602,-12 602,-12 602,-6 608,0 614,0 614,0 737,0 737,0 743,0 749,-6 749,-12 749,-12 749,-56 749,-56 749,-62 743,-68 737,-68\"/>\n",
       "<text text-anchor=\"middle\" x=\"675.5\" y=\"-52.8\" font-family=\"Helvetica,sans-Serif\" font-size=\"14.00\">entropy = 0.432</text>\n",
       "<text text-anchor=\"middle\" x=\"675.5\" y=\"-37.8\" font-family=\"Helvetica,sans-Serif\" font-size=\"14.00\">samples = 64504</text>\n",
       "<text text-anchor=\"middle\" x=\"675.5\" y=\"-22.8\" font-family=\"Helvetica,sans-Serif\" font-size=\"14.00\">value = [58787, 5717]</text>\n",
       "<text text-anchor=\"middle\" x=\"675.5\" y=\"-7.8\" font-family=\"Helvetica,sans-Serif\" font-size=\"14.00\">class = &#45;50000</text>\n",
       "</g>\n",
       "<!-- 9&#45;&gt;10 -->\n",
       "<g id=\"edge10\" class=\"edge\">\n",
       "<title>9&#45;&gt;10</title>\n",
       "<path fill=\"none\" stroke=\"black\" d=\"M718.18,-103.73C712.74,-94.97 706.99,-85.7 701.52,-76.91\"/>\n",
       "<polygon fill=\"black\" stroke=\"black\" points=\"704.43,-74.95 696.18,-68.3 698.48,-78.64 704.43,-74.95\"/>\n",
       "</g>\n",
       "<!-- 11 -->\n",
       "<g id=\"node12\" class=\"node\">\n",
       "<title>11</title>\n",
       "<path fill=\"#88c4ef\" stroke=\"black\" d=\"M880,-68C880,-68 779,-68 779,-68 773,-68 767,-62 767,-56 767,-56 767,-12 767,-12 767,-6 773,0 779,0 779,0 880,0 880,0 886,0 892,-6 892,-12 892,-12 892,-56 892,-56 892,-62 886,-68 880,-68\"/>\n",
       "<text text-anchor=\"middle\" x=\"829.5\" y=\"-52.8\" font-family=\"Helvetica,sans-Serif\" font-size=\"14.00\">entropy = 0.862</text>\n",
       "<text text-anchor=\"middle\" x=\"829.5\" y=\"-37.8\" font-family=\"Helvetica,sans-Serif\" font-size=\"14.00\">samples = 1317</text>\n",
       "<text text-anchor=\"middle\" x=\"829.5\" y=\"-22.8\" font-family=\"Helvetica,sans-Serif\" font-size=\"14.00\">value = [375, 942]</text>\n",
       "<text text-anchor=\"middle\" x=\"829.5\" y=\"-7.8\" font-family=\"Helvetica,sans-Serif\" font-size=\"14.00\">class = 50000+</text>\n",
       "</g>\n",
       "<!-- 9&#45;&gt;11 -->\n",
       "<g id=\"edge11\" class=\"edge\">\n",
       "<title>9&#45;&gt;11</title>\n",
       "<path fill=\"none\" stroke=\"black\" d=\"M775.52,-103.73C782.54,-94.79 789.98,-85.32 797.02,-76.36\"/>\n",
       "<polygon fill=\"black\" stroke=\"black\" points=\"799.92,-78.33 803.35,-68.3 794.42,-74 799.92,-78.33\"/>\n",
       "</g>\n",
       "<!-- 13 -->\n",
       "<g id=\"node14\" class=\"node\">\n",
       "<title>13</title>\n",
       "<path fill=\"#f5fafe\" stroke=\"black\" d=\"M1038.5,-68C1038.5,-68 922.5,-68 922.5,-68 916.5,-68 910.5,-62 910.5,-56 910.5,-56 910.5,-12 910.5,-12 910.5,-6 916.5,0 922.5,0 922.5,0 1038.5,0 1038.5,0 1044.5,0 1050.5,-6 1050.5,-12 1050.5,-12 1050.5,-56 1050.5,-56 1050.5,-62 1044.5,-68 1038.5,-68\"/>\n",
       "<text text-anchor=\"middle\" x=\"980.5\" y=\"-52.8\" font-family=\"Helvetica,sans-Serif\" font-size=\"14.00\">entropy = 1.0</text>\n",
       "<text text-anchor=\"middle\" x=\"980.5\" y=\"-37.8\" font-family=\"Helvetica,sans-Serif\" font-size=\"14.00\">samples = 6896</text>\n",
       "<text text-anchor=\"middle\" x=\"980.5\" y=\"-22.8\" font-family=\"Helvetica,sans-Serif\" font-size=\"14.00\">value = [3360, 3536]</text>\n",
       "<text text-anchor=\"middle\" x=\"980.5\" y=\"-7.8\" font-family=\"Helvetica,sans-Serif\" font-size=\"14.00\">class = 50000+</text>\n",
       "</g>\n",
       "<!-- 12&#45;&gt;13 -->\n",
       "<g id=\"edge13\" class=\"edge\">\n",
       "<title>12&#45;&gt;13</title>\n",
       "<path fill=\"none\" stroke=\"black\" d=\"M980.5,-103.73C980.5,-95.52 980.5,-86.86 980.5,-78.56\"/>\n",
       "<polygon fill=\"black\" stroke=\"black\" points=\"984,-78.3 980.5,-68.3 977,-78.3 984,-78.3\"/>\n",
       "</g>\n",
       "<!-- 14 -->\n",
       "<g id=\"node15\" class=\"node\">\n",
       "<title>14</title>\n",
       "<path fill=\"#eb9e66\" stroke=\"black\" d=\"M1188.5,-68C1188.5,-68 1080.5,-68 1080.5,-68 1074.5,-68 1068.5,-62 1068.5,-56 1068.5,-56 1068.5,-12 1068.5,-12 1068.5,-6 1074.5,0 1080.5,0 1080.5,0 1188.5,0 1188.5,0 1194.5,0 1200.5,-6 1200.5,-12 1200.5,-12 1200.5,-56 1200.5,-56 1200.5,-62 1194.5,-68 1188.5,-68\"/>\n",
       "<text text-anchor=\"middle\" x=\"1134.5\" y=\"-52.8\" font-family=\"Helvetica,sans-Serif\" font-size=\"14.00\">entropy = 0.693</text>\n",
       "<text text-anchor=\"middle\" x=\"1134.5\" y=\"-37.8\" font-family=\"Helvetica,sans-Serif\" font-size=\"14.00\">samples = 4690</text>\n",
       "<text text-anchor=\"middle\" x=\"1134.5\" y=\"-22.8\" font-family=\"Helvetica,sans-Serif\" font-size=\"14.00\">value = [3817, 873]</text>\n",
       "<text text-anchor=\"middle\" x=\"1134.5\" y=\"-7.8\" font-family=\"Helvetica,sans-Serif\" font-size=\"14.00\">class = &#45;50000</text>\n",
       "</g>\n",
       "<!-- 12&#45;&gt;14 -->\n",
       "<g id=\"edge14\" class=\"edge\">\n",
       "<title>12&#45;&gt;14</title>\n",
       "<path fill=\"none\" stroke=\"black\" d=\"M1037.84,-103.73C1051.44,-94.06 1065.91,-83.77 1079.41,-74.17\"/>\n",
       "<polygon fill=\"black\" stroke=\"black\" points=\"1081.55,-76.95 1087.67,-68.3 1077.49,-71.24 1081.55,-76.95\"/>\n",
       "</g>\n",
       "</g>\n",
       "</svg>\n"
      ],
      "text/plain": [
       "<graphviz.sources.Source at 0x1724e4bf7c0>"
      ]
     },
     "execution_count": 15,
     "metadata": {},
     "output_type": "execute_result"
    }
   ],
   "source": [
    "clf = tree.DecisionTreeClassifier(criterion=\"entropy\", max_depth=3)\n",
    "clf = clf.fit(X_TRAIN, Y_TRAIN)\n",
    "\n",
    "dot_data = tree.export_graphviz(clf, out_file=None, \n",
    "                                feature_names=CLEANED_DATA.columns,\n",
    "                                class_names=CLASS_NAMES,\n",
    "                                rounded=True, filled=True) \n",
    "graph = graphviz.Source(dot_data) \n",
    "graph"
   ]
  },
  {
   "cell_type": "markdown",
   "id": "b2cd029e",
   "metadata": {},
   "source": [
    "### Creates a png of the graph. Used to generate picture seen below. _No need to run_"
   ]
  },
  {
   "cell_type": "code",
   "execution_count": 24,
   "id": "01a865d7",
   "metadata": {},
   "outputs": [
    {
     "name": "stderr",
     "output_type": "stream",
     "text": [
      "dot: graph is too large for cairo-renderer bitmaps. Scaling by 0.573853 to fit\r\n"
     ]
    },
    {
     "data": {
      "text/plain": [
       "'depth_10_tree.png'"
      ]
     },
     "execution_count": 24,
     "metadata": {},
     "output_type": "execute_result"
    }
   ],
   "source": [
    "dot_data = tree.export_graphviz(clf, out_file=None, \n",
    "                                feature_names=CLEANED_DATA.columns,\n",
    "                                class_names=CLASS_NAMES,\n",
    "                                rounded=True, filled=True) \n",
    "graph = graphviz.Source(dot_data) \n",
    "graph.format = 'png'\n",
    "graph.render('depth_3_tree')"
   ]
  },
  {
   "cell_type": "markdown",
   "id": "9e5129af",
   "metadata": {},
   "source": [
    "-------------"
   ]
  },
  {
   "cell_type": "markdown",
   "id": "dc5e4033",
   "metadata": {},
   "source": [
    "![image](depth_3_tree.png)"
   ]
  },
  {
   "cell_type": "markdown",
   "id": "70fb729d",
   "metadata": {},
   "source": [
    "In the above picture, we can see that the program selects binary attributes with `ATTR <= 0.5`, where True is left and False is right. When selecting continuous attributes, it picks a value to split on.  \n",
    "We can also see that the graph colors nodes by which class the result is expected to belong to. Orange represents 'below 50000' and blue represents 'above 50000'"
   ]
  },
  {
   "cell_type": "markdown",
   "id": "9c306a3f",
   "metadata": {},
   "source": [
    "## Test models of different depth on training data"
   ]
  },
  {
   "cell_type": "code",
   "execution_count": 30,
   "id": "ba6da86b",
   "metadata": {},
   "outputs": [],
   "source": [
    "def test_model_on_data(clf, testing_data_X, testing_data_Y):\n",
    "    '''This function computes the accuracy of the model on the given set, returning a decimal representation'''\n",
    "    total = len(RESULTS)\n",
    "    wrong = 0\n",
    "    for expected, actual in zip(clf.predict(testing_data_X), testing_data_Y):\n",
    "        if expected != actual:\n",
    "            wrong += 1\n",
    "    return (total-wrong)/total\n",
    "    "
   ]
  },
  {
   "cell_type": "code",
   "execution_count": 32,
   "id": "7602e88e",
   "metadata": {
    "scrolled": true
   },
   "outputs": [
    {
     "name": "stdout",
     "output_type": "stream",
     "text": [
      "Max depth 2: 0.9379419916500854\n",
      "Max depth 3: 0.941665873107361\n",
      "Max depth 4: 0.9441267422803387\n",
      "Max depth 5: 0.9461465595445137\n",
      "Max depth 6: 0.946958496012991\n",
      "Max depth 7: 0.9483217473674714\n",
      "Max depth 8: 0.9507826165404489\n",
      "Max depth 9: 0.9523613818958215\n",
      "Max depth 10: 0.9537597169248658\n"
     ]
    }
   ],
   "source": [
    "for i in range(2, 11):\n",
    "    clf = tree.DecisionTreeClassifier(criterion=\"entropy\", max_depth=i)\n",
    "    clf = clf.fit(X_TRAIN, Y_TRAIN)\n",
    "    print(f\"Max depth {i}: {test_model_on_data(clf, X_TRAIN, Y_TRAIN)}\")"
   ]
  },
  {
   "cell_type": "markdown",
   "id": "17dbfa49",
   "metadata": {},
   "source": [
    "Based on this data, the best value is $k = 10$"
   ]
  },
  {
   "cell_type": "markdown",
   "id": "d5e565bc",
   "metadata": {},
   "source": [
    "# Question 2B"
   ]
  },
  {
   "cell_type": "markdown",
   "id": "b66f1532",
   "metadata": {},
   "source": [
    "## Load data from Testing Set"
   ]
  },
  {
   "cell_type": "code",
   "execution_count": 53,
   "id": "1b36e3a2",
   "metadata": {},
   "outputs": [],
   "source": [
    "TESTING_DATA = pd.read_csv('census-income.test', header=None, names=ATTRIBUTES)\n",
    "Y_TEST = TESTING_DATA[:]['RESULT']\n",
    "\n",
    "Y_TEST = Y_TEST.apply(lambda x: 0 if '-' in x else 1)\n",
    "CLASS_NAMES=['-50000', '50000+']\n",
    "\n",
    "TESTING_DATA = TESTING_DATA.drop(columns=[\"MARSUPWT\",\"RESULT\"])\n",
    "ATTRIBUTE_COLUMNS = TESTING_DATA.columns"
   ]
  },
  {
   "cell_type": "code",
   "execution_count": 100,
   "id": "864930cc",
   "metadata": {},
   "outputs": [
    {
     "name": "stdout",
     "output_type": "stream",
     "text": [
      "Old data shape: (99762, 40), Counter({dtype('O'): 28, dtype('int64'): 12})\n",
      "New data shape: (99762, 508), Counter({dtype('uint8'): 395, dtype('float64'): 105, dtype('int64'): 8})\n"
     ]
    }
   ],
   "source": [
    "ohe = OneHotEncoder()\n",
    "X_TEST = TESTING_DATA.copy()\n",
    "# These attributes are already integers, so get_dummies will ignore them. We check for them separately\n",
    "numerical_non_continuous = {'ADTIND', 'ADTOCC','SEOTR','VETYN'}\n",
    "\n",
    "for t, col in zip(TESTING_DATA.dtypes, TESTING_DATA.columns):\n",
    "    if t == 'object':\n",
    "        new_cols = pd.get_dummies(TESTING_DATA[[col]])\n",
    "        X_TEST = pd.concat([X_TEST, new_cols], axis=1)\n",
    "        X_TEST = X_TEST.drop(columns=[col])\n",
    "    if col in numerical_non_continuous:\n",
    "        new_cols = pd.DataFrame(ohe.fit_transform(TESTING_DATA[[col]]).toarray())\n",
    "        new_cols.columns = ohe.get_feature_names_out()     \n",
    "        X_TEST = pd.concat([X_TEST, new_cols], axis=1)\n",
    "        X_TEST = X_TEST.drop(columns=[col])\n",
    "print(f\"Old data shape: {TESTING_DATA.shape}, {Counter(TESTING_DATA.dtypes)}\")\n",
    "print(f\"New data shape: {X_TEST.shape}, {Counter(X_TEST.dtypes)}\")"
   ]
  },
  {
   "cell_type": "markdown",
   "id": "dc5a0a88",
   "metadata": {},
   "source": [
    "Note that the new testing data shape is 508, meaning that the testing data is missing an example with a certain value for an attribute.  \n",
    "We will figure out what column that is, then add a 0 column with that attribute as the header. The value should be zero for every instance if we never saw it during the `pd.getdummies` call"
   ]
  },
  {
   "cell_type": "code",
   "execution_count": 137,
   "id": "958fe030",
   "metadata": {
    "scrolled": true
   },
   "outputs": [
    {
     "name": "stdout",
     "output_type": "stream",
     "text": [
      "Missing: \n",
      "\tHHDFMX_ Grandchild <18 ever marr not in subfamily\n",
      "Training shape (199523, 509)\n",
      "Testing shape (99762, 509)\n"
     ]
    }
   ],
   "source": [
    "# Add in the missing columns\n",
    "for c in X_TRAIN.columns:\n",
    "    if c not in X_TEST.columns:\n",
    "        print(f\"Missing: \\n\\t{c}\")\n",
    "        missing_column = pd.DataFrame([0]*len(X_TEST))\n",
    "        missing_column.columns = [str(c)]\n",
    "        X_TEST = pd.concat([X_TEST, missing_column], axis=1)\n",
    "        \n",
    "# Rearrange the columns in X_TEST to match the order of X_TRAIN\n",
    "train_cols = X_TRAIN.columns\n",
    "X_TEST = X_TEST[train_cols]\n",
    "\n",
    "print(f\"Training shape {X_TRAIN.shape}\")\n",
    "print(f\"Testing shape {X_TEST.shape}\")"
   ]
  },
  {
   "cell_type": "markdown",
   "id": "447b1075",
   "metadata": {},
   "source": [
    "### Data is now formatted. Generate Decision Tree and test it against training data and testing data"
   ]
  },
  {
   "cell_type": "code",
   "execution_count": 149,
   "id": "a07549f8",
   "metadata": {},
   "outputs": [],
   "source": [
    "CHOSEN_K = 10\n",
    "clf = tree.DecisionTreeClassifier(criterion=\"entropy\", max_depth=CHOSEN_K)\n",
    "clf = clf.fit(X_TRAIN, Y_TRAIN)"
   ]
  },
  {
   "cell_type": "code",
   "execution_count": 150,
   "id": "9d5008cf",
   "metadata": {
    "scrolled": false
   },
   "outputs": [
    {
     "name": "stdout",
     "output_type": "stream",
     "text": [
      "Accuracy on TESTING data: 0.975160758408805\n"
     ]
    }
   ],
   "source": [
    "print(f\"Accuracy on TESTING data: {test_model_on_data(clf, X_TEST, Y_TEST)}\")"
   ]
  },
  {
   "cell_type": "markdown",
   "id": "853f8d64",
   "metadata": {},
   "source": [
    "# Question 2C"
   ]
  },
  {
   "cell_type": "markdown",
   "id": "2ce22dfd",
   "metadata": {},
   "source": [
    "The amount of overfitting can be found by subtracting the error on the training data from the error on the testing data: \n",
    "$$ O = e_{test} - e_{train} $$"
   ]
  },
  {
   "cell_type": "code",
   "execution_count": 154,
   "id": "eccdf8a0",
   "metadata": {},
   "outputs": [
    {
     "name": "stdout",
     "output_type": "stream",
     "text": [
      "Error on TRAINING data: 0.04624\n",
      "Error on TESTING data: 0.02484\n",
      "Overfitting: -0.02140\n"
     ]
    }
   ],
   "source": [
    "# The function I wrote returns accuracy, so we do 1-accuracy to get error\n",
    "train_accuracy = 1 - test_model_on_data(clf, X_TRAIN, Y_TRAIN)\n",
    "test_accuracy = 1 - test_model_on_data(clf, X_TEST, Y_TEST)\n",
    "print(f\"Error on TRAINING data: {train_accuracy:.5f}\")\n",
    "print(f\"Error on TESTING data: {test_accuracy:.5f}\")\n",
    "print(f\"Overfitting: {test_accuracy-train_accuracy:.5f}\")"
   ]
  },
  {
   "cell_type": "code",
   "execution_count": 157,
   "id": "5fe9df1b",
   "metadata": {},
   "outputs": [
    {
     "name": "stdout",
     "output_type": "stream",
     "text": [
      "Error on TRAINING data: 0.02468\n",
      "Error on TESTING data: 0.02642\n",
      "Overfitting: 0.00174\n"
     ]
    }
   ],
   "source": [
    "CHOSEN_K = 20\n",
    "clf = tree.DecisionTreeClassifier(criterion=\"entropy\", max_depth=CHOSEN_K)\n",
    "clf = clf.fit(X_TRAIN, Y_TRAIN)\n",
    "\n",
    "# The function I wrote returns accuracy, so we do 1-accuracy to get error\n",
    "train_accuracy = 1 - test_model_on_data(clf, X_TRAIN, Y_TRAIN)\n",
    "test_accuracy = 1 - test_model_on_data(clf, X_TEST, Y_TEST)\n",
    "print(f\"Error on TRAINING data: {train_accuracy:.5f}\")\n",
    "print(f\"Error on TESTING data: {test_accuracy:.5f}\")\n",
    "print(f\"Overfitting: {test_accuracy-train_accuracy:.5f}\")"
   ]
  }
 ],
 "metadata": {
  "kernelspec": {
   "display_name": "Python 3 (ipykernel)",
   "language": "python",
   "name": "python3"
  },
  "language_info": {
   "codemirror_mode": {
    "name": "ipython",
    "version": 3
   },
   "file_extension": ".py",
   "mimetype": "text/x-python",
   "name": "python",
   "nbconvert_exporter": "python",
   "pygments_lexer": "ipython3",
   "version": "3.10.6"
  },
  "vscode": {
   "interpreter": {
    "hash": "fc991c51327496ebdbfda1f0a33f704ad01b3cb47eab69be37a6eb36834cd500"
   }
  }
 },
 "nbformat": 4,
 "nbformat_minor": 5
}
