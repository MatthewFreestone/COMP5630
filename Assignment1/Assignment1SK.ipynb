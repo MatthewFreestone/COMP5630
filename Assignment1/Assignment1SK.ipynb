{
 "cells": [
  {
   "cell_type": "markdown",
   "id": "6554e1d7",
   "metadata": {},
   "source": [
    "## Import and load data"
   ]
  },
  {
   "cell_type": "code",
   "execution_count": 3,
   "id": "308e0ec2",
   "metadata": {},
   "outputs": [],
   "source": [
    "from sklearn import tree\n",
    "import pandas as pd\n",
    "from collections import Counter\n",
    "from matplotlib import pyplot as plt\n",
    "import graphviz"
   ]
  },
  {
   "cell_type": "code",
   "execution_count": 4,
   "id": "be1cf6c9",
   "metadata": {},
   "outputs": [],
   "source": [
    "ATTRIBUTES = [\n",
    "    \"AAGE\",\n",
    "    \"ACLSWKR\",\n",
    "    \"ADTIND\",\n",
    "    \"ADTOCC\",\n",
    "    # \"AGI\",\n",
    "    \"AHGA\",\n",
    "    \"AHRSPAY\",\n",
    "    \"AHSCOL\",\n",
    "    \"AMARITL\",\n",
    "    \"AMJIND\",\n",
    "    \"AMJOCC\",\n",
    "    \"ARACE\",\n",
    "    \"AREORGN\",\n",
    "    \"ASEX\",\n",
    "    \"AUNMEM\",\n",
    "    \"AUNTYPE\",\n",
    "    \"AWKSTAT\",\n",
    "    \"CAPGAIN\",\n",
    "    \"CAPLOSS\",\n",
    "    \"DIVVAL\",\n",
    "    # \"FEDTAX\",\n",
    "    \"FILESTAT\",\n",
    "    \"GRINREG\",\n",
    "    \"GRINST\",\n",
    "    \"HHDFMX\",\n",
    "    \"HHDREL\",\n",
    "    \"MARSUPWT\", #This is sample weight, should be ignored\n",
    "    \"MIGMTR1\",\n",
    "    \"MIGMTR3\",\n",
    "    \"MIGMTR4\",\n",
    "    \"MIGSAME\",\n",
    "    \"MIGSUN\",\n",
    "    \"NOEMP\",\n",
    "    \"PARENT\",\n",
    "    # \"PEARNVAL\",\n",
    "    \"PEFNTVTY\",\n",
    "    \"PEMNTVTY\",\n",
    "    \"PENATVTY\",\n",
    "    \"PRCITSHP\",\n",
    "    # \"PTOTVAL\",\n",
    "    \"SEOTR\",\n",
    "    # \"TAXINC\",\n",
    "    \"VETQVA\",\n",
    "    \"VETYN\",\n",
    "    \"WKSWORK\",\n",
    "    \"YEAR\",\n",
    "    \"RESULT\"\n",
    "]"
   ]
  },
  {
   "cell_type": "code",
   "execution_count": 5,
   "id": "272ec5f6",
   "metadata": {},
   "outputs": [],
   "source": [
    "\n",
    "DATA = pd.read_csv('census-income.data', header=None, names=ATTRIBUTES)\n",
    "RESULTS = DATA[:]['RESULT']\n",
    "RESULTS = RESULTS.apply(lambda x: 0 if '-' in x else 1)\n",
    "DATA = DATA.drop(columns=[\"MARSUPWT\",\"RESULT\"])\n",
    "ATTRIBUTE_COLUMNS = DATA.columns"
   ]
  },
  {
   "cell_type": "markdown",
   "id": "87364a3d",
   "metadata": {},
   "source": [
    "## Change string data to integers"
   ]
  },
  {
   "cell_type": "code",
   "execution_count": 6,
   "id": "56f10afd",
   "metadata": {},
   "outputs": [
    {
     "name": "stdout",
     "output_type": "stream",
     "text": [
      "Counter({dtype('O'): 28, dtype('int64'): 12})\n",
      "Counter({dtype('int64'): 40})\n"
     ]
    }
   ],
   "source": [
    "print(Counter(DATA.dtypes))\n",
    "CLEANED_DATA = DATA.apply(lambda x: pd.factorize(x)[0] if x.dtype == 'O' else x)\n",
    "print(Counter(CLEANED_DATA.dtypes))"
   ]
  },
  {
   "cell_type": "code",
   "execution_count": 7,
   "id": "da8612e9",
   "metadata": {},
   "outputs": [
    {
     "name": "stdout",
     "output_type": "stream",
     "text": [
      "Data shape: (199523, 40)\n",
      "Results shape: (199523,), Results type int64\n"
     ]
    }
   ],
   "source": [
    "print(f\"Data shape: {CLEANED_DATA.shape}\")\n",
    "print(f\"Results shape: {RESULTS.shape}, Results type {RESULTS.dtypes}\")"
   ]
  },
  {
   "cell_type": "code",
   "execution_count": 8,
   "id": "3b5baeb2",
   "metadata": {},
   "outputs": [
    {
     "data": {
      "text/html": [
       "<div>\n",
       "<style scoped>\n",
       "    .dataframe tbody tr th:only-of-type {\n",
       "        vertical-align: middle;\n",
       "    }\n",
       "\n",
       "    .dataframe tbody tr th {\n",
       "        vertical-align: top;\n",
       "    }\n",
       "\n",
       "    .dataframe thead th {\n",
       "        text-align: right;\n",
       "    }\n",
       "</style>\n",
       "<table border=\"1\" class=\"dataframe\">\n",
       "  <thead>\n",
       "    <tr style=\"text-align: right;\">\n",
       "      <th></th>\n",
       "      <th>AAGE</th>\n",
       "      <th>ACLSWKR</th>\n",
       "      <th>ADTIND</th>\n",
       "      <th>ADTOCC</th>\n",
       "      <th>AHGA</th>\n",
       "      <th>AHRSPAY</th>\n",
       "      <th>AHSCOL</th>\n",
       "      <th>AMARITL</th>\n",
       "      <th>AMJIND</th>\n",
       "      <th>AMJOCC</th>\n",
       "      <th>...</th>\n",
       "      <th>PARENT</th>\n",
       "      <th>PEFNTVTY</th>\n",
       "      <th>PEMNTVTY</th>\n",
       "      <th>PENATVTY</th>\n",
       "      <th>PRCITSHP</th>\n",
       "      <th>SEOTR</th>\n",
       "      <th>VETQVA</th>\n",
       "      <th>VETYN</th>\n",
       "      <th>WKSWORK</th>\n",
       "      <th>YEAR</th>\n",
       "    </tr>\n",
       "  </thead>\n",
       "  <tbody>\n",
       "    <tr>\n",
       "      <th>0</th>\n",
       "      <td>73</td>\n",
       "      <td>0</td>\n",
       "      <td>0</td>\n",
       "      <td>0</td>\n",
       "      <td>0</td>\n",
       "      <td>0</td>\n",
       "      <td>0</td>\n",
       "      <td>0</td>\n",
       "      <td>0</td>\n",
       "      <td>0</td>\n",
       "      <td>...</td>\n",
       "      <td>0</td>\n",
       "      <td>0</td>\n",
       "      <td>0</td>\n",
       "      <td>0</td>\n",
       "      <td>0</td>\n",
       "      <td>0</td>\n",
       "      <td>0</td>\n",
       "      <td>2</td>\n",
       "      <td>0</td>\n",
       "      <td>95</td>\n",
       "    </tr>\n",
       "    <tr>\n",
       "      <th>1</th>\n",
       "      <td>58</td>\n",
       "      <td>1</td>\n",
       "      <td>4</td>\n",
       "      <td>34</td>\n",
       "      <td>1</td>\n",
       "      <td>0</td>\n",
       "      <td>0</td>\n",
       "      <td>1</td>\n",
       "      <td>1</td>\n",
       "      <td>1</td>\n",
       "      <td>...</td>\n",
       "      <td>0</td>\n",
       "      <td>0</td>\n",
       "      <td>0</td>\n",
       "      <td>0</td>\n",
       "      <td>0</td>\n",
       "      <td>0</td>\n",
       "      <td>0</td>\n",
       "      <td>2</td>\n",
       "      <td>52</td>\n",
       "      <td>94</td>\n",
       "    </tr>\n",
       "    <tr>\n",
       "      <th>2</th>\n",
       "      <td>18</td>\n",
       "      <td>0</td>\n",
       "      <td>0</td>\n",
       "      <td>0</td>\n",
       "      <td>2</td>\n",
       "      <td>0</td>\n",
       "      <td>1</td>\n",
       "      <td>2</td>\n",
       "      <td>0</td>\n",
       "      <td>0</td>\n",
       "      <td>...</td>\n",
       "      <td>0</td>\n",
       "      <td>1</td>\n",
       "      <td>1</td>\n",
       "      <td>1</td>\n",
       "      <td>1</td>\n",
       "      <td>0</td>\n",
       "      <td>0</td>\n",
       "      <td>2</td>\n",
       "      <td>0</td>\n",
       "      <td>95</td>\n",
       "    </tr>\n",
       "    <tr>\n",
       "      <th>3</th>\n",
       "      <td>9</td>\n",
       "      <td>0</td>\n",
       "      <td>0</td>\n",
       "      <td>0</td>\n",
       "      <td>3</td>\n",
       "      <td>0</td>\n",
       "      <td>0</td>\n",
       "      <td>2</td>\n",
       "      <td>0</td>\n",
       "      <td>0</td>\n",
       "      <td>...</td>\n",
       "      <td>1</td>\n",
       "      <td>0</td>\n",
       "      <td>0</td>\n",
       "      <td>0</td>\n",
       "      <td>0</td>\n",
       "      <td>0</td>\n",
       "      <td>0</td>\n",
       "      <td>0</td>\n",
       "      <td>0</td>\n",
       "      <td>94</td>\n",
       "    </tr>\n",
       "    <tr>\n",
       "      <th>4</th>\n",
       "      <td>10</td>\n",
       "      <td>0</td>\n",
       "      <td>0</td>\n",
       "      <td>0</td>\n",
       "      <td>3</td>\n",
       "      <td>0</td>\n",
       "      <td>0</td>\n",
       "      <td>2</td>\n",
       "      <td>0</td>\n",
       "      <td>0</td>\n",
       "      <td>...</td>\n",
       "      <td>1</td>\n",
       "      <td>0</td>\n",
       "      <td>0</td>\n",
       "      <td>0</td>\n",
       "      <td>0</td>\n",
       "      <td>0</td>\n",
       "      <td>0</td>\n",
       "      <td>0</td>\n",
       "      <td>0</td>\n",
       "      <td>94</td>\n",
       "    </tr>\n",
       "  </tbody>\n",
       "</table>\n",
       "<p>5 rows × 40 columns</p>\n",
       "</div>"
      ],
      "text/plain": [
       "   AAGE  ACLSWKR  ADTIND  ADTOCC  AHGA  AHRSPAY  AHSCOL  AMARITL  AMJIND  \\\n",
       "0    73        0       0       0     0        0       0        0       0   \n",
       "1    58        1       4      34     1        0       0        1       1   \n",
       "2    18        0       0       0     2        0       1        2       0   \n",
       "3     9        0       0       0     3        0       0        2       0   \n",
       "4    10        0       0       0     3        0       0        2       0   \n",
       "\n",
       "   AMJOCC  ...  PARENT  PEFNTVTY  PEMNTVTY  PENATVTY  PRCITSHP  SEOTR  VETQVA  \\\n",
       "0       0  ...       0         0         0         0         0      0       0   \n",
       "1       1  ...       0         0         0         0         0      0       0   \n",
       "2       0  ...       0         1         1         1         1      0       0   \n",
       "3       0  ...       1         0         0         0         0      0       0   \n",
       "4       0  ...       1         0         0         0         0      0       0   \n",
       "\n",
       "   VETYN  WKSWORK  YEAR  \n",
       "0      2        0    95  \n",
       "1      2       52    94  \n",
       "2      2        0    95  \n",
       "3      0        0    94  \n",
       "4      0        0    94  \n",
       "\n",
       "[5 rows x 40 columns]"
      ]
     },
     "execution_count": 8,
     "metadata": {},
     "output_type": "execute_result"
    }
   ],
   "source": [
    "CLEANED_DATA[:5]"
   ]
  },
  {
   "cell_type": "code",
   "execution_count": 9,
   "id": "ce7031ab",
   "metadata": {},
   "outputs": [],
   "source": [
    "# clf = tree.DecisionTreeClassifier()\n",
    "clf = tree.DecisionTreeClassifier(criterion=\"entropy\", max_depth=2)\n",
    "clf = clf.fit(CLEANED_DATA, RESULTS)"
   ]
  },
  {
   "cell_type": "code",
   "execution_count": 10,
   "id": "ba6da86b",
   "metadata": {},
   "outputs": [
    {
     "data": {
      "text/plain": [
       "array([0], dtype=int64)"
      ]
     },
     "execution_count": 10,
     "metadata": {},
     "output_type": "execute_result"
    }
   ],
   "source": [
    "clf.predict(CLEANED_DATA[:1][0:])"
   ]
  },
  {
   "cell_type": "code",
   "execution_count": 12,
   "id": "774cd652",
   "metadata": {},
   "outputs": [
    {
     "data": {
      "text/plain": [
       "'tree2.pdf'"
      ]
     },
     "execution_count": 12,
     "metadata": {},
     "output_type": "execute_result"
    }
   ],
   "source": [
    "# draw tree\n",
    "# tree.plot_tree(clf)\n",
    "dot_data = tree.export_graphviz(clf, out_file=None) \n",
    "graph = graphviz.Source(dot_data) \n",
    "graph.render(\"tree2\") "
   ]
  }
 ],
 "metadata": {
  "kernelspec": {
   "display_name": "Python 3 (ipykernel)",
   "language": "python",
   "name": "python3"
  },
  "language_info": {
   "codemirror_mode": {
    "name": "ipython",
    "version": 3
   },
   "file_extension": ".py",
   "mimetype": "text/x-python",
   "name": "python",
   "nbconvert_exporter": "python",
   "pygments_lexer": "ipython3",
   "version": "3.10.6"
  },
  "vscode": {
   "interpreter": {
    "hash": "fc991c51327496ebdbfda1f0a33f704ad01b3cb47eab69be37a6eb36834cd500"
   }
  }
 },
 "nbformat": 4,
 "nbformat_minor": 5
}
