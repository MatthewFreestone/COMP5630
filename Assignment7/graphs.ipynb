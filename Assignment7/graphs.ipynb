{
 "cells": [
  {
   "cell_type": "code",
   "execution_count": 5,
   "metadata": {},
   "outputs": [],
   "source": [
    "import matplotlib.pyplot as plt\n",
    "import numpy as np\n",
    "from tqdm import tqdm\n",
    "from PIL import Image\n",
    "%matplotlib inline"
   ]
  },
  {
   "cell_type": "code",
   "execution_count": 18,
   "metadata": {},
   "outputs": [],
   "source": [
    "def converged(centroids, old_centroids):\n",
    "\tif len(old_centroids) == 0:\n",
    "\t\treturn False\n",
    "\n",
    "\tif len(centroids) <= 5:\n",
    "\t\ta = 1\n",
    "\telif len(centroids) <= 10:\n",
    "\t\ta = 2\n",
    "\telse:\n",
    "\t\ta = 4\n",
    "\n",
    "\tfor i in range(0, len(centroids)):\n",
    "\t\tcent = centroids[i]\n",
    "\t\told_cent = old_centroids[i]\n",
    "\t\tif ((int(old_cent[0]) - a) <= cent[0] <= (int(old_cent[0]) + a)) and ((int(old_cent[1]) - a) <= cent[1] <= (int(old_cent[1]) + a)) and ((int(old_cent[2]) - a) <= cent[2] <= (int(old_cent[2]) + a)):\n",
    "\t\t\tcontinue\n",
    "\t\telse:\n",
    "\t\t\treturn False\n",
    "\treturn True\n",
    "\n",
    "# ======\n",
    "# getMin\n",
    "# ======\n",
    "#\n",
    "# Method used to find the closest centroid to the given pixel.\n",
    "#\n",
    "def getMin(pixel, centroids):\n",
    "\tminDist = 9999\n",
    "\tminIndex = 0\n",
    "\n",
    "\tfor i in range(0, len(centroids)):\n",
    "\t\td = np.sqrt(int((centroids[i][0] - pixel[0]))**2 + int((centroids[i][1] - pixel[1]))**2 + int((centroids[i][2] - pixel[2]))**2)\n",
    "\t\tif d < minDist:\n",
    "\t\t\tminDist = d\n",
    "\t\t\tminIndex = i\n",
    "\n",
    "\treturn minIndex\n",
    "#end getMin\n",
    "\n",
    "\n",
    "\n",
    "\n",
    "# ============\n",
    "# assignPixels\n",
    "# ============\n",
    "def assignPixels(centroids):\n",
    "\tclusters = {}\n",
    "\t\n",
    "\tfor x in range(im.size[0]):\n",
    "\t\tfor y in range(im.size[1]):\n",
    "\t\t\tminIndex = getMin(px[x, y], centroids)\n",
    "\t\t\tif minIndex in clusters:\n",
    "\t\t\t\tclusters[minIndex].append(px[x, y])\n",
    "\t\t\telse:\n",
    "\t\t\t\tclusters[minIndex] = [px[x, y]]\n",
    "\treturn clusters\n",
    "\n",
    "#end assignPixels\n",
    "\n",
    "\n",
    "\n",
    "# ===============\n",
    "# adjustCentroids\n",
    "# ===============\n",
    "\n",
    "def adjustCentroids(clusters):\n",
    "\tnew_centroids = []\n",
    "\tfor i in clusters.keys():\n",
    "\t\tif i not in clusters:\n",
    "\t\t\tcontinue\n",
    "\t\tcluster = clusters[i]\n",
    "\t\tr = 0\n",
    "\t\tg = 0\n",
    "\t\tb = 0\n",
    "\t\tfor j in range(len(cluster)):\n",
    "\t\t\tr += cluster[j][0]\n",
    "\t\t\tg += cluster[j][1]\n",
    "\t\t\tb += cluster[j][2]\n",
    "\t\tnew_centroids.append([r//len(cluster), g//len(cluster), b//len(cluster)])\n",
    "\n",
    "        ## Write your code here\n",
    "\treturn new_centroids\n",
    "\n",
    "#end adjustCentroids\n",
    "\n",
    "\n",
    "# ===========\n",
    "# initializeKmeans\n",
    "# ===========\n",
    "#\n",
    "# Used to initialize the k-means clustering\n",
    "#\n",
    "def initializeKmeans(someK):\n",
    "\tcentroids = []\n",
    "\timg_width, img_height = im.size\n",
    "\tfor _ in range(0, someK):\n",
    "\t\ti,j = np.random.randint(0, img_width), np.random.randint(0, img_height)\n",
    "\t\tcentroids.append(px[i, j])\t\n",
    "\n",
    "\t# print(\"Centroids Initialized\")\n",
    "\t# print(\"===========================================\")\n",
    "\n",
    "\treturn centroids\n",
    "#end initializeKmeans\n",
    "\n",
    "\n",
    "\n",
    "\n",
    "\n",
    "# ===========\n",
    "# iterateKmeans\n",
    "# ===========\n",
    "#\n",
    "# Used to iterate the k-means clustering\n",
    "#\n",
    "def iterateKmeans(centroids):\n",
    "\told_centroids = []\n",
    "\t# print(\"Starting Assignments\")\n",
    "\t# print(\"===========================================\")\n",
    "\tMAX_ITERATIONS = 20\n",
    "\titeration = 0\n",
    "\twhile not converged(centroids, old_centroids) and iteration < MAX_ITERATIONS:\n",
    "\t\told_centroids = centroids\n",
    "\t\tclusters = assignPixels(centroids)\n",
    "\t\tcentroids = adjustCentroids(clusters)\n",
    "\t\titeration += 1\n",
    "\t\n",
    "\t# print(\"===========================================\")\n",
    "\t# print(\"Convergence Reached!\")\n",
    "\treturn centroids, mse(centroids, clusters)\n",
    "\n",
    "def mse(centroids, clusters):\n",
    "\ttotal = 0\n",
    "\tfor i in clusters.keys():\n",
    "\t\tcluster = clusters[i]\n",
    "\t\tfor j in range(len(cluster)):\n",
    "\t\t\ttotal += np.sqrt(int((centroids[i][0] - cluster[j][0]))**2 + int((centroids[i][1] - cluster[j][1]))**2 + int((centroids[i][2] - cluster[j][2]))**2)\n",
    "\treturn total\n",
    "\n",
    "\t\t## Write your code here\n",
    "\n",
    "def drawWindow(result):\n",
    "\timg_width, img_height = im.size\n",
    "\timg = Image.new('RGB', (img_width, img_height), \"white\")\n",
    "\tp = img.load()\n",
    "\n",
    "\tfor x in range(img.size[0]):\n",
    "\t\tfor y in range(img.size[1]):\n",
    "\t\t\tRGB_value = result[getMin(px[x, y], result)]\n",
    "\t\t\tp[x, y] = tuple(RGB_value)\n",
    "\n",
    "\timg.show()\n",
    "\t\n"
   ]
  },
  {
   "cell_type": "code",
   "execution_count": 14,
   "metadata": {},
   "outputs": [
    {
     "name": "stdout",
     "output_type": "stream",
     "text": [
      "Centroids Initialized\n",
      "===========================================\n",
      "Starting Assignments\n",
      "===========================================\n",
      "===========================================\n",
      "Convergence Reached!\n",
      "MSE:  2528703.6960206535\n"
     ]
    }
   ],
   "source": [
    "num_input = \"2\"\n",
    "k_input = 3\n",
    "\n",
    "img = \"img/test\" + num_input.zfill(2) + \".jpg\"\n",
    "im = Image.open(img)\n",
    "img_width, img_height = im.size\n",
    "px = im.load()\n",
    "\n",
    "initial_centroid=initializeKmeans(k_input)\n",
    "result, error = iterateKmeans(initial_centroid)\n",
    "print(\"MSE: \", error)"
   ]
  },
  {
   "cell_type": "code",
   "execution_count": 47,
   "metadata": {},
   "outputs": [
    {
     "name": "stderr",
     "output_type": "stream",
     "text": [
      "20it [16:56, 50.80s/it]\n"
     ]
    }
   ],
   "source": [
    "num_input = \"3\"\n",
    "k_inputs = list(range(1, 21))\n",
    "\n",
    "img = \"img/test\" + num_input.zfill(2) + \".jpg\"\n",
    "im = Image.open(img)\n",
    "img_width, img_height = im.size\n",
    "px = im.load()\n",
    "results = []\n",
    "errors = []\n",
    "\n",
    "for i, k_input in tqdm(enumerate(k_inputs)):\n",
    "    initial_centroid=initializeKmeans(k_input)\n",
    "    result, error = iterateKmeans(initial_centroid)\n",
    "    results.append(result)\n",
    "    errors.append(error)\n",
    "\n"
   ]
  },
  {
   "cell_type": "code",
   "execution_count": 52,
   "metadata": {},
   "outputs": [
    {
     "data": {
      "image/png": "[encoded data removed]",
      "text/plain": [
       "<Figure size 640x480 with 1 Axes>"
      ]
     },
     "metadata": {},
     "output_type": "display_data"
    }
   ],
   "source": [
    "fig = plt.figure()\n",
    "ax = fig.add_subplot(111)\n",
    "ax.plot(k_inputs, errors)\n",
    "ax.set_yscale('linear')\n",
    "ax.set_xlabel(\"K\")\n",
    "ax.set_ylabel(\"K-Means Objective Function\")\n",
    "ax.title.set_text(\"Objective vs K Values for Test Image 03\")\n",
    "plt.show()"
   ]
  },
  {
   "cell_type": "code",
   "execution_count": 46,
   "metadata": {},
   "outputs": [
    {
     "data": {
      "text/plain": [
       "[[244, 217, 197]]"
      ]
     },
     "execution_count": 46,
     "metadata": {},
     "output_type": "execute_result"
    }
   ],
   "source": [
    "results[6]"
   ]
  }
 ],
 "metadata": {
  "kernelspec": {
   "display_name": "Python 3.10.2 ('venv': venv)",
   "language": "python",
   "name": "python3"
  },
  "language_info": {
   "codemirror_mode": {
    "name": "ipython",
    "version": 3
   },
   "file_extension": ".py",
   "mimetype": "text/x-python",
   "name": "python",
   "nbconvert_exporter": "python",
   "pygments_lexer": "ipython3",
   "version": "3.10.2"
  },
  "orig_nbformat": 4,
  "vscode": {
   "interpreter": {
    "hash": "c3aa00aded8185b1b121d9a816507de5a835b81eeb963c94a602efd8ecf34dce"
   }
  }
 },
 "nbformat": 4,
 "nbformat_minor": 2
}
