{
 "cells": [
  {
   "cell_type": "code",
   "execution_count": 21,
   "metadata": {},
   "outputs": [],
   "source": [
    "import pandas as pd\n",
    "import time\n",
    "from sklearn.naive_bayes import GaussianNB, MultinomialNB, ComplementNB, BernoulliNB"
   ]
  },
  {
   "cell_type": "code",
   "execution_count": 18,
   "metadata": {},
   "outputs": [
    {
     "name": "stdout",
     "output_type": "stream",
     "text": [
      "X_train shape is (4527, 5180)\n",
      "Y_train shape is (4527,)\n",
      "X_test shape is (1806, 5180)\n",
      "Y_test shape is (1806,)\n"
     ]
    }
   ],
   "source": [
    "WORKING_DIR = \"HW2_data/\"\n",
    "X_train = pd.read_csv(WORKING_DIR + 'train.csv', header=None)\n",
    "Y_train = pd.read_csv(WORKING_DIR + 'train_labels.txt', header=None)\n",
    "# transform Y_train from column vector to 1d array\n",
    "Y_train = Y_train.values.ravel()\n",
    "print(f\"X_train shape is {X_train.shape}\")\n",
    "print(f\"Y_train shape is {Y_train.shape}\")\n",
    "\n",
    "X_test = pd.read_csv(WORKING_DIR + 'test.csv', header=None)\n",
    "Y_test = pd.read_csv(WORKING_DIR + 'test_labels.txt', header=None)\n",
    "Y_test = Y_test.values.ravel()\n",
    "print(f\"X_test shape is {X_test.shape}\")\n",
    "print(f\"Y_test shape is {Y_test.shape}\")"
   ]
  },
  {
   "cell_type": "code",
   "execution_count": 5,
   "metadata": {},
   "outputs": [],
   "source": [
    "def find_accuracy(Y_pred, Y_actual):\n",
    "    return sum(Y_pred == Y_actual) / len(Y_actual)"
   ]
  },
  {
   "cell_type": "code",
   "execution_count": 29,
   "metadata": {},
   "outputs": [
    {
     "name": "stdout",
     "output_type": "stream",
     "text": [
      "training took 0.1963 seconds\n",
      "training accuracy is 0.96930\n",
      "test accuracy is 0.98228\n"
     ]
    }
   ],
   "source": [
    "model = MultinomialNB(alpha=1)\n",
    "train_time_start = time.time()\n",
    "model = model.fit(X_train, Y_train)\n",
    "train_time_end = time.time()\n",
    "print(f\"training took {train_time_end - train_time_start:.4f} seconds\")\n",
    "\n",
    "Y_pred = model.predict(X_train)\n",
    "print(f\"training accuracy is {find_accuracy(Y_pred, Y_train):.5f}\")\n",
    "\n",
    "Y_pred = model.predict(X_test)\n",
    "print(f\"test accuracy is {find_accuracy(Y_pred, Y_test):.5f}\")"
   ]
  },
  {
   "cell_type": "code",
   "execution_count": 30,
   "metadata": {},
   "outputs": [
    {
     "name": "stdout",
     "output_type": "stream",
     "text": [
      "training took 0.2158 seconds\n",
      "training accuracy is 0.96907\n",
      "test accuracy is 0.98228\n"
     ]
    }
   ],
   "source": [
    "model = ComplementNB(alpha=1)\n",
    "train_time_start = time.time()\n",
    "model = model.fit(X_train, Y_train)\n",
    "train_time_end = time.time()\n",
    "print(f\"training took {train_time_end - train_time_start:.4f} seconds\")\n",
    "\n",
    "Y_pred = model.predict(X_train)\n",
    "print(f\"training accuracy is {find_accuracy(Y_pred, Y_train):.5f}\")\n",
    "\n",
    "Y_pred = model.predict(X_test)\n",
    "print(f\"test accuracy is {find_accuracy(Y_pred, Y_test):.5f}\")"
   ]
  }
 ],
 "metadata": {
  "kernelspec": {
   "display_name": "Python 3.10.6 64-bit",
   "language": "python",
   "name": "python3"
  },
  "language_info": {
   "codemirror_mode": {
    "name": "ipython",
    "version": 3
   },
   "file_extension": ".py",
   "mimetype": "text/x-python",
   "name": "python",
   "nbconvert_exporter": "python",
   "pygments_lexer": "ipython3",
   "version": "3.10.6"
  },
  "orig_nbformat": 4,
  "vscode": {
   "interpreter": {
    "hash": "8c7f0a6833b2e90d418006e0e6deec1fc5fac15b23c1dee2df1a27ddd2f0576d"
   }
  }
 },
 "nbformat": 4,
 "nbformat_minor": 2
}
