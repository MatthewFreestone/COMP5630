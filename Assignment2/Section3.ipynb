{
 "cells": [
  {
   "cell_type": "code",
   "execution_count": 40,
   "metadata": {},
   "outputs": [],
   "source": [
    "import pandas as pd\n",
    "from sklearn.naive_bayes import GaussianNB, MultinomialNB"
   ]
  },
  {
   "cell_type": "code",
   "execution_count": 29,
   "metadata": {},
   "outputs": [
    {
     "name": "stdout",
     "output_type": "stream",
     "text": [
      "X_train shape is (4527, 5180)\n",
      "Y_train shape is (4527,)\n"
     ]
    }
   ],
   "source": [
    "WORKING_DIR = \"HW2_data/\"\n",
    "X_train = pd.read_csv(WORKING_DIR + 'train.csv', header=None)\n",
    "Y_train = pd.read_csv(WORKING_DIR + 'train_labels.txt', header=None)\n",
    "# transform Y_train from column vector to 1d array\n",
    "Y_train = Y_train.values.ravel()\n",
    "print(f\"X_train shape is {X_train.shape}\")\n",
    "print(f\"Y_train shape is {Y_train.shape}\")\n",
    "\n",
    "# X_test = pd.read_csv(WORKING_DIR + 'test.csv', header=None)\n",
    "# Y_test = pd.read_csv(WORKING_DIR + 'test_labels.txt', header=None)"
   ]
  },
  {
   "cell_type": "code",
   "execution_count": 34,
   "metadata": {},
   "outputs": [],
   "source": [
    "def find_accuracy(Y_pred, Y_actual):\n",
    "    return sum(Y_pred == Y_actual) / len(Y_actual)"
   ]
  },
  {
   "cell_type": "code",
   "execution_count": 42,
   "metadata": {},
   "outputs": [
    {
     "name": "stdout",
     "output_type": "stream",
     "text": [
      "training accuracy is 0.9079\n"
     ]
    }
   ],
   "source": [
    "# Create a Gaussian Classifier\n",
    "model = GaussianNB()\n",
    "Y_pred = model.fit(X_train, Y_train).predict(X_train)\n",
    "print(f\"training accuracy is {find_accuracy(Y_pred, Y_train):.4f}\")\n"
   ]
  },
  {
   "cell_type": "code",
   "execution_count": 41,
   "metadata": {},
   "outputs": [
    {
     "name": "stdout",
     "output_type": "stream",
     "text": [
      "training accuracy is 0.9693\n"
     ]
    }
   ],
   "source": [
    "# Create a Multinomial Classifier\n",
    "model = MultinomialNB()\n",
    "Y_pred = model.fit(X_train, Y_train).predict(X_train)\n",
    "print(f\"training accuracy is {find_accuracy(Y_pred, Y_train):.4f}\")"
   ]
  }
 ],
 "metadata": {
  "kernelspec": {
   "display_name": "Python 3.10.6 64-bit",
   "language": "python",
   "name": "python3"
  },
  "language_info": {
   "codemirror_mode": {
    "name": "ipython",
    "version": 3
   },
   "file_extension": ".py",
   "mimetype": "text/x-python",
   "name": "python",
   "nbconvert_exporter": "python",
   "pygments_lexer": "ipython3",
   "version": "3.10.6"
  },
  "orig_nbformat": 4,
  "vscode": {
   "interpreter": {
    "hash": "8c7f0a6833b2e90d418006e0e6deec1fc5fac15b23c1dee2df1a27ddd2f0576d"
   }
  }
 },
 "nbformat": 4,
 "nbformat_minor": 2
}
